{
 "cells": [
  {
   "cell_type": "markdown",
   "id": "1e7c1e47",
   "metadata": {},
   "source": [
    "<h2 style =\"color:blue;text-align:center\";> ISAT 341: Machine Learning and Data \n",
    "Science </h2>\n",
    "\n",
    "<h3 style=\"color: Green\", text align='center';>Activity 10 - Designing the Python Class for the Perceptron Model \n",
    "    \n",
    "<h3 style=\"color: Green\",text align='center'> (Implementing a Perceptron Learning Algorithm in Python) </h3> \n",
    "\n",
    "<h3 style=\"color: Green\",text align='center'> Pre-Project/Final Exam  </h3>\n",
    "\n",
    "<h3 text align='center'>(Kelsey Robertson) </h3>\n",
    "    "
   ]
  },
  {
   "cell_type": "markdown",
   "id": "e0a4cc77",
   "metadata": {},
   "source": [
    "**Objectives**\n",
    "\n",
    "- Start designing a Python Perceptron Class\n",
    "- Create a professional looking Jupyter Notebook.\n",
    "- Use several NumPy functions to implement the class.\n",
    "- Create dummy feature matrix.\n",
    "- Instantiate and test the Python Peceptron Class"
   ]
  },
  {
   "cell_type": "code",
   "execution_count": 9,
   "id": "abd315c0",
   "metadata": {},
   "outputs": [],
   "source": [
    "import numpy as np\n",
    "\n",
    "class Perceptron(object):\n",
    "    \"\"\"Perceptron classifier \n",
    "    \n",
    "    Parameters\n",
    "    ------------\n",
    "    eta : float\n",
    "        Learning rate (between 0.0 and 1.0)\n",
    "    n_iter : int\n",
    "        Passes over the training dataset.\n",
    "        \n",
    "    Attributes\n",
    "    -----------\n",
    "    w_ : 1d-array\n",
    "        Weights after fitting.\n",
    "    errors_ : list\n",
    "        Number of misclassifications in every epoch.\n",
    "    \"\"\"\n",
    "    def __init__(self, eta=0.01, n_iter=10):\n",
    "        self.eta = eta\n",
    "        self.n_iter = n_iter\n",
    " # task 3: \n",
    "    def fit(self, X):\n",
    "        self.w_ = np.full(1 + X.shape[1], 0.5)  # Set all weights to 0.5\n",
    "        self.errors_ = []\n",
    "    \n",
    "# task 4: \n",
    "    def net_input(self, X):\n",
    "        \"\"\"Calculate net input\"\"\"\n",
    "        net_input_value = np.dot(X, self.w_[1:]) + self.w_[0]\n",
    "        print(\"Net input:\", net_input_value)\n",
    "        return net_input_value\n",
    "   \n",
    "    def predict(self, X):\n",
    "        \"\"\"Return class label after unit step\"\"\"\n",
    "        net_input_value = self.net_input(X)\n",
    "        prediction = np.where(net_input_value >= 0.0, 1, -1)\n",
    "        print(\"Prediction:\", prediction)\n",
    "        return prediction\n"
   ]
  },
  {
   "cell_type": "markdown",
   "id": "85d8df81",
   "metadata": {},
   "source": [
    "#### Task 0 - Print out the class and methods docstrings as help "
   ]
  },
  {
   "cell_type": "code",
   "execution_count": 2,
   "id": "cba03ba7",
   "metadata": {},
   "outputs": [
    {
     "name": "stdout",
     "output_type": "stream",
     "text": [
      "Help on class Perceptron in module __main__:\n",
      "\n",
      "class Perceptron(builtins.object)\n",
      " |  Perceptron(eta=0.01, n_iter=10)\n",
      " |  \n",
      " |  Perceptron classifier \n",
      " |  \n",
      " |  Parameters\n",
      " |  ------------\n",
      " |  eta : float\n",
      " |      Learning rate (between 0.0 and 1.0)\n",
      " |  n_iter : int\n",
      " |      Passes over the training dataset.\n",
      " |      \n",
      " |  Attributes\n",
      " |  -----------\n",
      " |  w_ : 1d-array\n",
      " |      Weights after fitting.\n",
      " |  errors_ : list\n",
      " |      Number of misclassifications in every epoch.\n",
      " |  \n",
      " |  Methods defined here:\n",
      " |  \n",
      " |  __init__(self, eta=0.01, n_iter=10)\n",
      " |      Initialize self.  See help(type(self)) for accurate signature.\n",
      " |  \n",
      " |  fit(self, X)\n",
      " |  \n",
      " |  net_input(self, X)\n",
      " |      Calculate net input\n",
      " |  \n",
      " |  predict(self, X)\n",
      " |      Return class label after unit step\n",
      " |  \n",
      " |  ----------------------------------------------------------------------\n",
      " |  Data descriptors defined here:\n",
      " |  \n",
      " |  __dict__\n",
      " |      dictionary for instance variables (if defined)\n",
      " |  \n",
      " |  __weakref__\n",
      " |      list of weak references to the object (if defined)\n",
      "\n",
      "Perceptron Classifier:\n",
      "Perceptron classifier \n",
      "    \n",
      "    Parameters\n",
      "    ------------\n",
      "    eta : float\n",
      "        Learning rate (between 0.0 and 1.0)\n",
      "    n_iter : int\n",
      "        Passes over the training dataset.\n",
      "        \n",
      "    Attributes\n",
      "    -----------\n",
      "    w_ : 1d-array\n",
      "        Weights after fitting.\n",
      "    errors_ : list\n",
      "        Number of misclassifications in every epoch.\n",
      "    \n",
      "\n",
      "fit() Method Docstring:\n",
      "None\n",
      "\n",
      "net_input() Method Docstring:\n",
      "Calculate net input\n",
      "\n",
      "predict() Method Docstring:\n",
      "Return class label after unit step\n"
     ]
    }
   ],
   "source": [
    "help (Perceptron)\n",
    "\n",
    "# Print class docstring\n",
    "print(\"Perceptron Classifier:\")\n",
    "print(Perceptron.__doc__)\n",
    "print()\n",
    "\n",
    "# Print method docstrings\n",
    "print(\"fit() Method Docstring:\")\n",
    "print(Perceptron.fit.__doc__)\n",
    "print()\n",
    "\n",
    "print(\"net_input() Method Docstring:\")\n",
    "print(Perceptron.net_input.__doc__)\n",
    "print()\n",
    "\n",
    "print(\"predict() Method Docstring:\")\n",
    "print(Perceptron.predict.__doc__)"
   ]
  },
  {
   "cell_type": "markdown",
   "id": "425f9ce9",
   "metadata": {},
   "source": [
    "#### TASK 1 - create (and populate!) a 2D dummy features matrix.\n",
    "\n",
    "Keep it simple and make it 2 x 2 python list. Give it the name features"
   ]
  },
  {
   "cell_type": "code",
   "execution_count": 3,
   "id": "22246578",
   "metadata": {},
   "outputs": [],
   "source": [
    "features = [\n",
    "    [1, 2],\n",
    "    [-3, -4]\n",
    "]\n"
   ]
  },
  {
   "cell_type": "markdown",
   "id": "4b7e532b",
   "metadata": {},
   "source": [
    "#### TASK 2 - convert to numpy array "
   ]
  },
  {
   "cell_type": "code",
   "execution_count": 4,
   "id": "fc5b92c7",
   "metadata": {},
   "outputs": [],
   "source": [
    "features_array = np.array(features)"
   ]
  },
  {
   "cell_type": "markdown",
   "id": "2f8b92c4",
   "metadata": {},
   "source": [
    "#### TASK 5 - Instantiate the class\n",
    "\n",
    "Instantiate the class with the default values in the constructor (initializer)"
   ]
  },
  {
   "cell_type": "code",
   "execution_count": 8,
   "id": "c6b15808",
   "metadata": {},
   "outputs": [],
   "source": [
    "ppn = Perceptron()"
   ]
  },
  {
   "cell_type": "markdown",
   "id": "bdd6cfc7",
   "metadata": {},
   "source": [
    "#### TASK 6 - Call the dummy fit() method using your array"
   ]
  },
  {
   "cell_type": "code",
   "execution_count": 7,
   "id": "52232e21",
   "metadata": {},
   "outputs": [
    {
     "ename": "NameError",
     "evalue": "name 'X' is not defined",
     "output_type": "error",
     "traceback": [
      "\u001b[0;31m---------------------------------------------------------------------------\u001b[0m",
      "\u001b[0;31mNameError\u001b[0m                                 Traceback (most recent call last)",
      "Cell \u001b[0;32mIn[7], line 1\u001b[0m\n\u001b[0;32m----> 1\u001b[0m ppn\u001b[38;5;241m.\u001b[39mfit(X)\n\u001b[1;32m      2\u001b[0m predictions \u001b[38;5;241m=\u001b[39m ppn\u001b[38;5;241m.\u001b[39mpredict(features_array)\n\u001b[1;32m      3\u001b[0m \u001b[38;5;28mprint\u001b[39m(\u001b[38;5;124m\"\u001b[39m\u001b[38;5;124mPredictions:\u001b[39m\u001b[38;5;124m\"\u001b[39m, predictions)\n",
      "\u001b[0;31mNameError\u001b[0m: name 'X' is not defined"
     ]
    }
   ],
   "source": [
    "ppn.fit(features_array)\n",
    "predictions = ppn.predict(features_array)\n",
    "print(\"Predictions:\", predictions)"
   ]
  },
  {
   "cell_type": "markdown",
   "id": "df768efc",
   "metadata": {},
   "source": [
    "### Questions"
   ]
  },
  {
   "cell_type": "markdown",
   "id": "8f4057d7",
   "metadata": {},
   "source": [
    "In your own words, explain what this piece does:\n",
    "    \n",
    "    self.w_np.zeros(1 + X.shape[1])"
   ]
  },
  {
   "cell_type": "markdown",
   "id": "f15b1de7",
   "metadata": {},
   "source": [
    "This line of code sets up the weights (w_) with everything being set to zero. The size of the array is determined by (1 + X.shape[1]), which adds 1 to the number of features. X.shape[1] is what represents the quantity of features that are inputted into the data. This part of the code also gathers the number of features in the data. This code allows for all of the weights to start at zero, learning the data, and then the algorithm can make predicitions from there. "
   ]
  }
 ],
 "metadata": {
  "kernelspec": {
   "display_name": "Python 3 (ipykernel)",
   "language": "python",
   "name": "python3"
  },
  "language_info": {
   "codemirror_mode": {
    "name": "ipython",
    "version": 3
   },
   "file_extension": ".py",
   "mimetype": "text/x-python",
   "name": "python",
   "nbconvert_exporter": "python",
   "pygments_lexer": "ipython3",
   "version": "3.11.5"
  }
 },
 "nbformat": 4,
 "nbformat_minor": 5
}
